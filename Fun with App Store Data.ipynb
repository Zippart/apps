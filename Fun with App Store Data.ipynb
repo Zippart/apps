{
 "cells": [
  {
   "cell_type": "code",
   "execution_count": null,
   "id": "c141fe4d-7d88-46b4-8074-ba13eda9282b",
   "metadata": {},
   "outputs": [],
   "source": [
    "Google2 = Google[Google['Rating'] <= 5]\n",
    "# mean_rating_by_category = Google2.groupby('Category')['Rating'].mean().reset_index()\n",
    "# mean_rating_by_category_sorted = mean_rating_by_category.sort_values(by='Rating')\n",
    "\n",
    "# # Create bar plot\n",
    "# plt.figure(figsize=(10, 6))\n",
    "# ax = sns.barplot(data=mean_rating_by_category_sorted, x='Category', y='Rating', palette='viridis')\n",
    "# plt.title('Mean Rating by Category')\n",
    "# plt.xlabel('Category')\n",
    "# plt.ylabel('Mean Rating')\n",
    "# ax.set_ylim(3.8, ax.get_ylim()[1])\n",
    "# plt.xticks(rotation=90)  # Rotate x-axis labels for better readability\n",
    "# plt.tight_layout()\n",
    "# plt.show()\n",
    "\n",
    "# print(Google['Category'].unique())\n",
    "\n",
    "# choose_category = 'BEAUTY'\n",
    "\n",
    "# gdata = Google2[Google2['Category'] == choose_category]\n",
    "\n",
    "# # Create histogram of ratings for the \"Arts\" category\n",
    "# plt.figure(figsize=(8, 6))\n",
    "# sns.histplot(data=gdata, x='Rating', kde=True)\n",
    "# plt.title(f'Histogram of Ratings for {choose_category}')\n",
    "# plt.xlabel('Rating')\n",
    "# plt.ylabel('Frequency')\n",
    "# plt.grid(True)\n",
    "# plt.show()\n",
    "\n",
    "categories = Google['Category'].unique()\n",
    "\n",
    "# Initialize figure and axes\n",
    "fig, ax = plt.subplots(figsize=(8, 6))\n",
    "\n",
    "# Function to update the plot with a given category\n",
    "def update(category):\n",
    "    ax.clear()\n",
    "    category_data = Google[Google['Category'] == category]\n",
    "    sns.histplot(data=category_data, x='Rating', kde=True, ax=ax)\n",
    "    ax.set_title(f'Histogram of Ratings for the {category} Category')\n",
    "    ax.set_xlabel('Rating')\n",
    "    ax.set_ylabel('Frequency')\n",
    "    ax.grid(True)\n",
    "\n",
    "# Animate the plot\n",
    "ani = FuncAnimation(fig, update, frames=itertools.cycle(categories), interval=1000)\n",
    "\n",
    "plt.show()"
   ]
  }
 ],
 "metadata": {
  "kernelspec": {
   "display_name": "Python 3 (ipykernel)",
   "language": "python",
   "name": "python3"
  },
  "language_info": {
   "codemirror_mode": {
    "name": "ipython",
    "version": 3
   },
   "file_extension": ".py",
   "mimetype": "text/x-python",
   "name": "python",
   "nbconvert_exporter": "python",
   "pygments_lexer": "ipython3",
   "version": "3.8.5"
  }
 },
 "nbformat": 4,
 "nbformat_minor": 5
}
